{
 "cells": [
  {
   "cell_type": "code",
   "execution_count": 14,
   "id": "2fd14278-1a6f-413d-bff6-54c374091d79",
   "metadata": {},
   "outputs": [],
   "source": [
    "import numpy as np\n",
    "import tensorflow as tf\n",
    "import tensorflow_hub as hub\n",
    "import tensorflow_datasets as tfds"
   ]
  },
  {
   "cell_type": "code",
   "execution_count": 15,
   "id": "b9fe600c-f3d9-426f-be10-c3855c7b367a",
   "metadata": {},
   "outputs": [],
   "source": [
    "train_data,val_data,test_data = tfds.load(name = \"imdb_reviews\" , split = ('train' , 'test[:60%]' , 'test[60%:]'),\n",
    "                                          as_supervised = True )"
   ]
  },
  {
   "cell_type": "code",
   "execution_count": 16,
   "id": "acfd8d72-7732-4eed-84c3-a15de8160437",
   "metadata": {},
   "outputs": [],
   "source": [
    "hub_layer = hub.KerasLayer(\"https://kaggle.com/models/google/gnews-swivel/frameworks/TensorFlow2/variations/tf2-preview-20dim/versions/1\", output_shape=[20],\n",
    "                           input_shape=[], dtype=tf.string, trainable = True)"
   ]
  },
  {
   "cell_type": "code",
   "execution_count": 17,
   "id": "e0079ad9-91ac-4f91-8f88-50a30751c350",
   "metadata": {},
   "outputs": [],
   "source": [
    "model = tf.keras.Sequential()\n",
    "model.add(hub_layer)\n",
    "model.add(tf.keras.layers.Dense(16, activation='relu'))\n",
    "model.add(tf.keras.layers.Dense(1, activation='sigmoid'))"
   ]
  },
  {
   "cell_type": "code",
   "execution_count": 18,
   "id": "352ce4ac-c6d4-469c-b9ab-c9ce9cf53e01",
   "metadata": {},
   "outputs": [
    {
     "name": "stdout",
     "output_type": "stream",
     "text": [
      "Model: \"sequential_2\"\n",
      "_________________________________________________________________\n",
      " Layer (type)                Output Shape              Param #   \n",
      "=================================================================\n",
      " keras_layer_2 (KerasLayer)  (None, 20)                400020    \n",
      "                                                                 \n",
      " dense_4 (Dense)             (None, 16)                336       \n",
      "                                                                 \n",
      " dense_5 (Dense)             (None, 1)                 17        \n",
      "                                                                 \n",
      "=================================================================\n",
      "Total params: 400,373\n",
      "Trainable params: 400,373\n",
      "Non-trainable params: 0\n",
      "_________________________________________________________________\n",
      "Epoch 1/20\n",
      "250/250 [==============================] - 10s 32ms/step - loss: 0.5774 - accuracy: 0.6973 - val_loss: 0.4996 - val_accuracy: 0.7639\n",
      "Epoch 2/20\n",
      "250/250 [==============================] - 8s 30ms/step - loss: 0.4127 - accuracy: 0.8226 - val_loss: 0.3814 - val_accuracy: 0.8387\n",
      "Epoch 3/20\n",
      "250/250 [==============================] - 9s 34ms/step - loss: 0.3174 - accuracy: 0.8716 - val_loss: 0.3261 - val_accuracy: 0.8637\n",
      "Epoch 4/20\n",
      "250/250 [==============================] - 8s 32ms/step - loss: 0.2609 - accuracy: 0.8976 - val_loss: 0.3219 - val_accuracy: 0.8622\n",
      "Epoch 5/20\n",
      "250/250 [==============================] - 11s 45ms/step - loss: 0.0491 - accuracy: 0.9893 - val_loss: 0.5053 - val_accuracy: 0.8509\n",
      "Epoch 18/20\n",
      "250/250 [==============================] - 8s 32ms/step - loss: 0.0425 - accuracy: 0.9910 - val_loss: 0.5389 - val_accuracy: 0.8488\n",
      "Epoch 19/20\n",
      "250/250 [==============================] - 9s 34ms/step - loss: 0.0358 - accuracy: 0.9935 - val_loss: 0.5720 - val_accuracy: 0.8460\n",
      "Epoch 20/20\n",
      "250/250 [==============================] - 8s 33ms/step - loss: 0.0309 - accuracy: 0.9948 - val_loss: 0.6100 - val_accuracy: 0.8436\n"
     ]
    }
   ],
   "source": [
    "model.summary()\n",
    "model.compile(optimizer = 'adam', loss = tf.losses.BinaryCrossentropy(from_logits=True), metrics=['accuracy'] )\n",
    "history = model.fit(train_data.shuffle(10000).batch(100), epochs = 20, validation_data=val_data.batch(100), verbose=1)"
   ]
  },
  {
   "cell_type": "code",
   "execution_count": 19,
   "id": "0608b8ee-3e0f-42af-a2de-2960e77bfd09",
   "metadata": {},
   "outputs": [
    {
     "name": "stdout",
     "output_type": "stream",
     "text": [
      "100/100 [==============================] - 1s 12ms/step - loss: 0.6132 - accuracy: 0.8435\n"
     ]
    }
   ],
   "source": [
    "results = model.evaluate(test_data.batch(100))"
   ]
  },
  {
   "cell_type": "code",
   "execution_count": 20,
   "id": "62943955-169e-418d-a790-07775e765178",
   "metadata": {},
   "outputs": [
    {
     "data": {
      "text/plain": [
       "[0.6131595969200134, 0.843500018119812]"
      ]
     },
     "execution_count": 20,
     "metadata": {},
     "output_type": "execute_result"
    }
   ],
   "source": [
    "results"
   ]
  },
  {
   "cell_type": "code",
   "execution_count": null,
   "id": "af328703-8c7e-4da2-a910-133e8f4dfc0d",
   "metadata": {},
   "outputs": [],
   "source": []
  }
 ],
 "metadata": {
  "kernelspec": {
   "display_name": "Python 3 (ipykernel)",
   "language": "python",
   "name": "python3"
  },
  "language_info": {
   "codemirror_mode": {
    "name": "ipython",
    "version": 3
   },
   "file_extension": ".py",
   "mimetype": "text/x-python",
   "name": "python",
   "nbconvert_exporter": "python",
   "pygments_lexer": "ipython3",
   "version": "3.9.15"
  }
 },
 "nbformat": 4,
 "nbformat_minor": 5
}
